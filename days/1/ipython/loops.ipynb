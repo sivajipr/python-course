{
 "metadata": {
  "name": "loops"
 },
 "nbformat": 3,
 "nbformat_minor": 0,
 "worksheets": [
  {
   "cells": [
    {
     "cell_type": "code",
     "collapsed": false,
     "input": [
      "while True:\n",
      "    print 'hello'\n"
     ],
     "language": "python",
     "metadata": {},
     "outputs": []
    },
    {
     "cell_type": "code",
     "collapsed": false,
     "input": [
      "i = 0\n",
      "while i < 10:\n",
      "    print i\n",
      "    i = i + 1\n"
     ],
     "language": "python",
     "metadata": {},
     "outputs": []
    },
    {
     "cell_type": "code",
     "collapsed": false,
     "input": [
      "i = 0\n",
      "while i < 10:\n",
      "    if i > 5:\n",
      "        break\n",
      "    print i\n",
      "    i = i + 1"
     ],
     "language": "python",
     "metadata": {},
     "outputs": []
    },
    {
     "cell_type": "code",
     "collapsed": false,
     "input": [
      "i = 0\n",
      "while i < 10:\n",
      "    if (i > 3) and (i < 7):\n",
      "        i = i + 1\n",
      "        continue\n",
      "    print i\n",
      "    i = i + 1\n"
     ],
     "language": "python",
     "metadata": {},
     "outputs": []
    },
    {
     "cell_type": "code",
     "collapsed": false,
     "input": [
      "# check whether N is prime\n",
      "\n",
      "# 1051 is a prime number\n",
      "\n",
      "N = 1051\n",
      "\n",
      "i = 2\n",
      "flag = True\n",
      "while i < N/2:\n",
      "    if (N % i) == 0:\n",
      "        flag = False\n",
      "        break\n",
      "    i = i + 1\n",
      "\n",
      "if flag:\n",
      "    print N, 'is prime'\n"
     ],
     "language": "python",
     "metadata": {},
     "outputs": []
    },
    {
     "cell_type": "code",
     "collapsed": false,
     "input": [
      "# check whether N is prime\n",
      "\n",
      "# 1051 is a prime number\n",
      "\n",
      "N = 1051\n",
      "\n",
      "i = 2\n",
      "while i < N/2:\n",
      "    if (N % i) == 0:\n",
      "        break\n",
      "    i = i + 1\n",
      "\n",
      "else:\n",
      "    print N, 'is  prime'\n"
     ],
     "language": "python",
     "metadata": {},
     "outputs": []
    },
    {
     "cell_type": "code",
     "collapsed": false,
     "input": [
      "v = (1, 3, 5, 6, 7)\n",
      "\n",
      "for i in v:\n",
      "    print i\n"
     ],
     "language": "python",
     "metadata": {},
     "outputs": []
    },
    {
     "cell_type": "code",
     "collapsed": false,
     "input": [
      "v = [1, 3, 5, 6, 7]\n",
      "\n",
      "for i in v:\n",
      "    print i\n"
     ],
     "language": "python",
     "metadata": {},
     "outputs": []
    },
    {
     "cell_type": "code",
     "collapsed": false,
     "input": [
      "v = \"hello, world\"\n",
      "\n",
      "for i in v:\n",
      "    print i\n"
     ],
     "language": "python",
     "metadata": {},
     "outputs": []
    },
    {
     "cell_type": "code",
     "collapsed": false,
     "input": [
      "v = {\"apple\":100, \"mango\":80, \"orange\":50}\n",
      "\n",
      "for k in v:\n",
      "    print k\n"
     ],
     "language": "python",
     "metadata": {},
     "outputs": []
    },
    {
     "cell_type": "code",
     "collapsed": false,
     "input": [
      "v = [(\"apple\", 100), (\"orange\", 80), (\"mango\", 50)]\n",
      "\n",
      "for fruit, price in v:\n",
      "    print fruit, price\n"
     ],
     "language": "python",
     "metadata": {},
     "outputs": []
    },
    {
     "cell_type": "code",
     "collapsed": false,
     "input": [
      "v = [\"apple\", \"orange\", \"mango\"]\n",
      "\n",
      "for i, fruit in enumerate(v):\n",
      "    print i, fruit\n"
     ],
     "language": "python",
     "metadata": {},
     "outputs": []
    },
    {
     "cell_type": "code",
     "collapsed": false,
     "input": [
      "x = [10, 20, 30, 40]\n",
      "y = [1, 2, 3, 4]\n",
      "\n",
      "i = 0\n",
      "while i < len(x) and i < len(y):\n",
      "    print x[i] + y[i]\n",
      "    i += 1\n"
     ],
     "language": "python",
     "metadata": {},
     "outputs": []
    },
    {
     "cell_type": "code",
     "collapsed": false,
     "input": [
      "x = [10, 20, 30, 40]\n",
      "y = [1, 2, 3, 4]\n",
      "\n",
      "for i, j in zip(x, y):\n",
      "    print i + j\n"
     ],
     "language": "python",
     "metadata": {},
     "outputs": []
    },
    {
     "cell_type": "code",
     "collapsed": false,
     "input": [
      "a = {'apple':50, 'orange':60, 'mango':55}\n",
      "\n",
      "for fruit, cost in a.items():\n",
      "    print fruit, cost \n"
     ],
     "language": "python",
     "metadata": {},
     "outputs": []
    },
    {
     "cell_type": "code",
     "collapsed": false,
     "input": [],
     "language": "python",
     "metadata": {},
     "outputs": []
    }
   ],
   "metadata": {}
  }
 ]
}