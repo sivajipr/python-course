{
 "metadata": {
  "name": "datatype-list"
 },
 "nbformat": 3,
 "nbformat_minor": 0,
 "worksheets": [
  {
   "cells": [
    {
     "cell_type": "code",
     "collapsed": false,
     "input": [
      "a = [1,2,3, \"hello\", \"world\"]\n",
      "print a[0], a[-1], a[2:]\n"
     ],
     "language": "python",
     "metadata": {},
     "outputs": []
    },
    {
     "cell_type": "code",
     "collapsed": false,
     "input": [
      "a = [1,2,3, \"hello\", \"world\"]\n",
      "\n",
      "a[0] = 10\n",
      "\n",
      "print a\n",
      "\n",
      "a.append(30)\n",
      "\n",
      "print a\n"
     ],
     "language": "python",
     "metadata": {},
     "outputs": []
    },
    {
     "cell_type": "code",
     "collapsed": false,
     "input": [
      "fruits = []\n",
      "\n",
      "fruits.append('orange')\n",
      "\n",
      "print fruits\n"
     ],
     "language": "python",
     "metadata": {},
     "outputs": []
    },
    {
     "cell_type": "code",
     "collapsed": false,
     "input": [
      "a = range(10)\n",
      "print a\n",
      "\n",
      "a[0:3] = [-1, -2, -3]\n",
      "\n",
      "print a\n",
      "\n",
      "a[0:3] = []\n",
      "\n",
      "print a\n"
     ],
     "language": "python",
     "metadata": {},
     "outputs": []
    },
    {
     "cell_type": "code",
     "collapsed": false,
     "input": [
      "a = [1,2,3]\n",
      "b = [4, 5]\n",
      "\n",
      "print a + b\n"
     ],
     "language": "python",
     "metadata": {},
     "outputs": []
    },
    {
     "cell_type": "code",
     "collapsed": false,
     "input": [
      "a = [1,2,3,4,5]\n",
      "\n",
      "a.insert(2, 100)\n",
      "\n",
      "print a\n",
      "\n",
      "del a[2]\n",
      "\n",
      "print a\n"
     ],
     "language": "python",
     "metadata": {},
     "outputs": []
    },
    {
     "cell_type": "code",
     "collapsed": false,
     "input": [
      "a = [1, 2, \"Orange\", [\"Apple\", \"Mango\"]]\n",
      "\n",
      "print a[2]\n",
      "print a[2][0]\n",
      "print a[3][0]\n",
      "print a[3][0][0]\n"
     ],
     "language": "python",
     "metadata": {},
     "outputs": []
    },
    {
     "cell_type": "code",
     "collapsed": false,
     "input": [
      "a = [1, 2, 3, 4]\n",
      "\n",
      "b = a\n",
      "\n",
      "b.append(100)\n",
      "\n",
      "print a\n"
     ],
     "language": "python",
     "metadata": {},
     "outputs": []
    },
    {
     "cell_type": "code",
     "collapsed": false,
     "input": [
      "a = [1, 2, 3, 4]\n",
      "\n",
      "b = a[:]\n",
      "\n",
      "b.append(100)\n",
      "\n",
      "print a\n"
     ],
     "language": "python",
     "metadata": {},
     "outputs": []
    },
    {
     "cell_type": "code",
     "collapsed": false,
     "input": [
      "a = [1, 2, 3, 4]\n",
      "\n",
      "b = [10, 20, a, -1]\n",
      "\n",
      "b[2].append(100)\n",
      "\n",
      "print a\n"
     ],
     "language": "python",
     "metadata": {},
     "outputs": []
    },
    {
     "cell_type": "code",
     "collapsed": false,
     "input": [
      "a = [10, 20, 30, 40]\n",
      "\n",
      "print len(a)\n"
     ],
     "language": "python",
     "metadata": {},
     "outputs": []
    },
    {
     "cell_type": "code",
     "collapsed": false,
     "input": [
      "a = range(10)\n",
      "\n",
      "print a\n",
      "\n",
      "print a[::-1]\n"
     ],
     "language": "python",
     "metadata": {},
     "outputs": []
    },
    {
     "cell_type": "code",
     "collapsed": false,
     "input": [
      "a = [10, 20, 30, 40]\n",
      "\n",
      "print 30 in a\n"
     ],
     "language": "python",
     "metadata": {},
     "outputs": []
    },
    {
     "cell_type": "code",
     "collapsed": false,
     "input": [
      "a = [2, 10, 1, 3, 8, 7]\n",
      "a.sort()\n",
      "print a\n"
     ],
     "language": "python",
     "metadata": {},
     "outputs": []
    },
    {
     "cell_type": "code",
     "collapsed": false,
     "input": [
      "a = [2, 10, 1, 3, 8, 7]\n",
      "print sorted(a)\n",
      "print a\n"
     ],
     "language": "python",
     "metadata": {},
     "outputs": []
    },
    {
     "cell_type": "code",
     "collapsed": false,
     "input": [
      "a = range(10)\n",
      "\n",
      "t = [x*x for x in a]\n",
      "u = [x+1 for x in a]\n",
      "\n",
      "print t\n",
      "print u\n"
     ],
     "language": "python",
     "metadata": {},
     "outputs": []
    },
    {
     "cell_type": "code",
     "collapsed": false,
     "input": [
      "a = range(10)\n",
      "\n",
      "t = [x for x in a if x % 2 == 0]\n",
      "\n",
      "print t\n"
     ],
     "language": "python",
     "metadata": {},
     "outputs": []
    },
    {
     "cell_type": "code",
     "collapsed": false,
     "input": [
      "a = [(1, 2), (3, 4), (5, 6)]\n",
      "\n",
      "t = [u[0]+u[1] for u in a]\n",
      "\n",
      "print t\n"
     ],
     "language": "python",
     "metadata": {},
     "outputs": []
    },
    {
     "cell_type": "code",
     "collapsed": false,
     "input": [
      "a = [(1, 2), (3, 4), (5, 6)]\n",
      "\n",
      "t = [u+v for u, v in a]\n",
      "\n",
      "print t\n"
     ],
     "language": "python",
     "metadata": {},
     "outputs": []
    },
    {
     "cell_type": "code",
     "collapsed": false,
     "input": [
      "a = [1,3,5]\n",
      "b = [2,4,6]\n",
      "\n",
      "print zip(a, b)\n"
     ],
     "language": "python",
     "metadata": {},
     "outputs": []
    },
    {
     "cell_type": "code",
     "collapsed": false,
     "input": [
      "a = [1,3,5]\n",
      "b = [2,4,6]\n",
      "\n",
      "t = [u + v for u, v in zip(a, b)]\n",
      "\n",
      "print t\n"
     ],
     "language": "python",
     "metadata": {},
     "outputs": []
    },
    {
     "cell_type": "code",
     "collapsed": false,
     "input": [
      "a = [1,2,3,4]\n",
      "\n",
      "t = [(u, v) for u in a for v in a]\n",
      "\n",
      "print t\n"
     ],
     "language": "python",
     "metadata": {},
     "outputs": []
    },
    {
     "cell_type": "code",
     "collapsed": false,
     "input": [
      "a = [1,2,3,4]\n",
      "\n",
      "t = [(u, v) for u in a for v in a if (u - v) == 1]\n",
      "\n",
      "print t\n"
     ],
     "language": "python",
     "metadata": {},
     "outputs": []
    }
   ],
   "metadata": {}
  }
 ]
}