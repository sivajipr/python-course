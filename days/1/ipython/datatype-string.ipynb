{
 "metadata": {
  "name": "datatype-string"
 },
 "nbformat": 3,
 "nbformat_minor": 0,
 "worksheets": [
  {
   "cells": [
    {
     "cell_type": "code",
     "collapsed": false,
     "input": [
      "a = \"hello\"\n",
      "\n",
      "print a[0]\n",
      "print a[-1]\n",
      "print a[-2]\n",
      "print a[4]\n",
      "print a[5]\n"
     ],
     "language": "python",
     "metadata": {},
     "outputs": []
    },
    {
     "cell_type": "code",
     "collapsed": false,
     "input": [
      "a = \"hello\"\n",
      "b = \"world\"\n",
      "\n",
      "print a + b\n",
      "\n",
      "print a * 4\n"
     ],
     "language": "python",
     "metadata": {},
     "outputs": []
    },
    {
     "cell_type": "code",
     "collapsed": false,
     "input": [
      "s = \"abcdefghij\"\n",
      "\n",
      "print s[2:6]\n",
      "\n",
      "print s[2:]\n",
      "\n",
      "print s[:6]\n",
      "\n",
      "print s[:]\n"
     ],
     "language": "python",
     "metadata": {},
     "outputs": []
    },
    {
     "cell_type": "code",
     "collapsed": false,
     "input": [
      "print s[1:-1]\n",
      "\n",
      "print s[1:-2]\n",
      "\n",
      "print s[1:8:2]\n",
      "\n",
      "print s[8:1:-1]\n",
      "\n",
      "print s[::-1]\n"
     ],
     "language": "python",
     "metadata": {},
     "outputs": []
    },
    {
     "cell_type": "code",
     "collapsed": false,
     "input": [
      "a = \"hello\"\n",
      "b = 'world'\n",
      "c = '''Hello, world'''\n",
      "d = \"\"\"Hello, world\"\"\"\n",
      "\n",
      "e = '''This is\n",
      "       a new line'''\n",
      "\n",
      "print e\n"
     ],
     "language": "python",
     "metadata": {},
     "outputs": []
    },
    {
     "cell_type": "code",
     "collapsed": false,
     "input": [
      "a = \"hello \"\n",
      "b = 10\n",
      "\n",
      "print a + b\n"
     ],
     "language": "python",
     "metadata": {},
     "outputs": []
    },
    {
     "cell_type": "code",
     "collapsed": false,
     "input": [
      "a = \"hello \"\n",
      "b = 10\n",
      "\n",
      "print a + str(b)\n"
     ],
     "language": "python",
     "metadata": {},
     "outputs": []
    },
    {
     "cell_type": "code",
     "collapsed": false,
     "input": [
      "a = \"123\"\n",
      "b = 10\n",
      "\n",
      "print int(a) + b\n"
     ],
     "language": "python",
     "metadata": {},
     "outputs": []
    },
    {
     "cell_type": "code",
     "collapsed": false,
     "input": [
      "a = \"hello\"\n",
      "a[0] = 'e'\n"
     ],
     "language": "python",
     "metadata": {},
     "outputs": []
    },
    {
     "cell_type": "code",
     "collapsed": false,
     "input": [
      "a = 'hello'\n",
      "\n",
      "print a.upper()\n",
      "\n",
      "print a\n"
     ],
     "language": "python",
     "metadata": {},
     "outputs": []
    },
    {
     "cell_type": "code",
     "collapsed": false,
     "input": [
      "print len('hello')"
     ],
     "language": "python",
     "metadata": {},
     "outputs": []
    },
    {
     "cell_type": "code",
     "collapsed": false,
     "input": [],
     "language": "python",
     "metadata": {},
     "outputs": []
    }
   ],
   "metadata": {}
  }
 ]
}