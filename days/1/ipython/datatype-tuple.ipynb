{
 "metadata": {
  "name": "datatype-tuple"
 },
 "nbformat": 3,
 "nbformat_minor": 0,
 "worksheets": [
  {
   "cells": [
    {
     "cell_type": "code",
     "collapsed": false,
     "input": [
      "a = (1, 10, 2, \"orange\", \"apple\")\n",
      "\n",
      "b = ((1,2), [3, 4], \"hello\")\n",
      "\n",
      "print a\n",
      "print b\n"
     ],
     "language": "python",
     "metadata": {},
     "outputs": []
    },
    {
     "cell_type": "code",
     "collapsed": false,
     "input": [
      "a = (1, 10, 2, \"orange\", \"apple\")\n",
      "\n",
      "b = ((1,2), [3, 4], \"hello\")\n",
      "\n",
      "a[0] = 100\n"
     ],
     "language": "python",
     "metadata": {},
     "outputs": []
    },
    {
     "cell_type": "code",
     "collapsed": false,
     "input": [
      "a = 1,2,3,4\n",
      "\n",
      "print a\n"
     ],
     "language": "python",
     "metadata": {},
     "outputs": []
    },
    {
     "cell_type": "code",
     "collapsed": false,
     "input": [
      "a = () \n",
      "b = (1)\n",
      "\n",
      "print a\n",
      "print b\n"
     ],
     "language": "python",
     "metadata": {},
     "outputs": []
    },
    {
     "cell_type": "code",
     "collapsed": false,
     "input": [
      "a = (1,)\n",
      "b = 10,\n",
      "\n",
      "print a\n",
      "print b\n"
     ],
     "language": "python",
     "metadata": {},
     "outputs": []
    },
    {
     "cell_type": "code",
     "collapsed": false,
     "input": [
      "p = (1, 2, 3)\n",
      "\n",
      "a, b, c = p\n",
      "\n",
      "print a\n",
      "print b\n",
      "print c\n"
     ],
     "language": "python",
     "metadata": {},
     "outputs": []
    }
   ],
   "metadata": {}
  }
 ]
}