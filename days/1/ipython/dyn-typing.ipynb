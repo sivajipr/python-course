{
 "metadata": {
  "name": "dyn-typing"
 },
 "nbformat": 3,
 "nbformat_minor": 0,
 "worksheets": [
  {
   "cells": [
    {
     "cell_type": "code",
     "collapsed": false,
     "input": [
      "a = 2\n",
      "\n",
      "if a == 1:\n",
      "    print a + 1\n",
      "else:\n",
      "    print b + 1\n"
     ],
     "language": "python",
     "metadata": {},
     "outputs": []
    },
    {
     "cell_type": "code",
     "collapsed": false,
     "input": [
      "a = 1\n",
      "\n",
      "if a == 1:\n",
      "    print a + 1\n",
      "else:\n",
      "    print b + 1\n"
     ],
     "language": "python",
     "metadata": {},
     "outputs": []
    },
    {
     "cell_type": "code",
     "collapsed": false,
     "input": [
      "a = 1\n",
      "\n",
      "if a == 1:\n",
      "    print a + 1\n",
      "else:\n",
      "    print b + \n"
     ],
     "language": "python",
     "metadata": {},
     "outputs": []
    }
   ],
   "metadata": {}
  }
 ]
}