{
 "metadata": {
  "name": "expressions"
 },
 "nbformat": 3,
 "nbformat_minor": 0,
 "worksheets": [
  {
   "cells": [
    {
     "cell_type": "code",
     "collapsed": false,
     "input": [
      "a = 1\n",
      "b = 2\n",
      "print a, b\n"
     ],
     "language": "python",
     "metadata": {},
     "outputs": []
    },
    {
     "cell_type": "code",
     "collapsed": false,
     "input": [
      "a, b = 1, 2\n",
      "\n",
      "print a, b\n"
     ],
     "language": "python",
     "metadata": {},
     "outputs": []
    },
    {
     "cell_type": "code",
     "collapsed": false,
     "input": [
      "a = 1\n",
      "b = 2\n",
      "a, b = b, a\n",
      "print a, b\n"
     ],
     "language": "python",
     "metadata": {},
     "outputs": []
    },
    {
     "cell_type": "code",
     "collapsed": false,
     "input": [
      "print 3 + 2\n",
      "print 3 - 2\n",
      "print 3 * 2\n",
      "print 3 / 2\n",
      "\n",
      "print 3 / 2.0\n"
     ],
     "language": "python",
     "metadata": {},
     "outputs": []
    },
    {
     "cell_type": "code",
     "collapsed": false,
     "input": [
      "print 3+2 * 4+3\n",
      "\n",
      "print (3 + 2) * (4 + 3)\n"
     ],
     "language": "python",
     "metadata": {},
     "outputs": []
    },
    {
     "cell_type": "code",
     "collapsed": false,
     "input": [
      "print 3 % 2\n",
      "\n",
      "print 4 % 2\n",
      "\n",
      "print 3 ** 2\n",
      "\n",
      "print 3 ** 200\n"
     ],
     "language": "python",
     "metadata": {},
     "outputs": []
    },
    {
     "cell_type": "code",
     "collapsed": false,
     "input": [
      "a = 'hello'\n",
      "\n",
      "print a\n",
      "\n",
      "b = \"world\"\n",
      "\n",
      "print b\n"
     ],
     "language": "python",
     "metadata": {},
     "outputs": []
    },
    {
     "cell_type": "code",
     "collapsed": false,
     "input": [
      "a = False\n",
      "b = True\n",
      "\n",
      "print a, b\n"
     ],
     "language": "python",
     "metadata": {},
     "outputs": []
    },
    {
     "cell_type": "code",
     "collapsed": false,
     "input": [
      "a = (1 < 2)\n",
      "b = (1 > 2)\n",
      "\n",
      "print a, b\n"
     ],
     "language": "python",
     "metadata": {},
     "outputs": []
    },
    {
     "cell_type": "code",
     "collapsed": false,
     "input": [
      "print 1 == 1\n",
      "\n",
      "print 1 != 1\n",
      "\n",
      "print 1 <> 1\n",
      "\n",
      "print 3 <= 3\n",
      "\n",
      "print 4 >= 4\n"
     ],
     "language": "python",
     "metadata": {},
     "outputs": []
    },
    {
     "cell_type": "code",
     "collapsed": false,
     "input": [
      "a = 10\n",
      "\n",
      "print 1 < a < 20\n",
      "\n",
      "print 1 < a < 9\n",
      "\n",
      "print 11 < a < 20\n"
     ],
     "language": "python",
     "metadata": {},
     "outputs": []
    },
    {
     "cell_type": "code",
     "collapsed": false,
     "input": [
      "print True and True\n",
      "\n",
      "print True and False\n",
      "\n",
      "print True or False\n",
      "\n",
      "print not True\n"
     ],
     "language": "python",
     "metadata": {},
     "outputs": []
    },
    {
     "cell_type": "code",
     "collapsed": false,
     "input": [
      "print (1 < 10) and (10 < 20)\n"
     ],
     "language": "python",
     "metadata": {},
     "outputs": []
    },
    {
     "cell_type": "code",
     "collapsed": false,
     "input": [
      "if (1 < 2):\n",
      "    print 'hello'\n"
     ],
     "language": "python",
     "metadata": {},
     "outputs": []
    },
    {
     "cell_type": "code",
     "collapsed": false,
     "input": [
      "if (1 < 2):\n",
      "    print 'hello'\n",
      "else:\n",
      "    print 'world'\n"
     ],
     "language": "python",
     "metadata": {},
     "outputs": []
    },
    {
     "cell_type": "code",
     "collapsed": false,
     "input": [
      "x = 10\n",
      "\n",
      "if x > 20:\n",
      "    print 'abc'\n",
      "elif x % 2 == 0:\n",
      "    print 'def'\n",
      "else:\n",
      "    print 'ijk'\n"
     ],
     "language": "python",
     "metadata": {},
     "outputs": []
    },
    {
     "cell_type": "code",
     "collapsed": false,
     "input": [
      "if True:\n",
      "    print 'hello'\n"
     ],
     "language": "python",
     "metadata": {},
     "outputs": []
    },
    {
     "cell_type": "code",
     "collapsed": false,
     "input": [
      "x = 0\n",
      "\n",
      "if x:\n",
      "    print 'hello'\n"
     ],
     "language": "python",
     "metadata": {},
     "outputs": []
    },
    {
     "cell_type": "code",
     "collapsed": false,
     "input": [
      "x = 1\n",
      "\n",
      "if x:\n",
      "    print 'hello'\n"
     ],
     "language": "python",
     "metadata": {},
     "outputs": []
    },
    {
     "cell_type": "code",
     "collapsed": false,
     "input": [
      "x = 'abcd'\n",
      "\n",
      "if x:\n",
      "    print 'hello'\n"
     ],
     "language": "python",
     "metadata": {},
     "outputs": []
    },
    {
     "cell_type": "code",
     "collapsed": false,
     "input": [
      "x = ''\n",
      "\n",
      "if x:\n",
      "    print 'hello'\n"
     ],
     "language": "python",
     "metadata": {},
     "outputs": []
    },
    {
     "cell_type": "code",
     "collapsed": false,
     "input": [
      "print 'abc' == 'abc'\n",
      "\n",
      "print 'abc' < 'abcd'\n",
      "\n",
      "print 'd' > 'abc'\n"
     ],
     "language": "python",
     "metadata": {},
     "outputs": []
    },
    {
     "cell_type": "code",
     "collapsed": false,
     "input": [
      "print min(1, 2)\n",
      "\n",
      "print max(10, 20)\n",
      "\n",
      "print ord('A')\n",
      "\n",
      "print chr(65)\n",
      "\n",
      "print int('123')\n",
      "\n",
      "print str(123)\n"
     ],
     "language": "python",
     "metadata": {},
     "outputs": []
    },
    {
     "cell_type": "code",
     "collapsed": false,
     "input": [
      "print 0x10\n",
      "\n",
      "print 010\n",
      "\n",
      "print 0xff\n",
      "\n",
      "print 0b1001\n",
      "\n",
      "print 1e+2\n",
      "\n",
      "\n",
      "print hex(255)\n",
      "\n",
      "\n",
      "print 1 + 2j\n"
     ],
     "language": "python",
     "metadata": {},
     "outputs": []
    },
    {
     "cell_type": "code",
     "collapsed": false,
     "input": [
      "print 255 & 1\n",
      "\n",
      "print 8 | 1\n",
      "\n",
      "print 8 ^ 8\n",
      "\n",
      "print 8 ^ 9\n",
      "\n",
      "print ~0\n"
     ],
     "language": "python",
     "metadata": {},
     "outputs": []
    },
    {
     "cell_type": "code",
     "collapsed": false,
     "input": [
      "print 4 << 1\n",
      "\n",
      "print 4 >> 1\n"
     ],
     "language": "python",
     "metadata": {},
     "outputs": []
    },
    {
     "cell_type": "code",
     "collapsed": false,
     "input": [
      "a = 1 + 2 * \\\n",
      "    3\n",
      "\n",
      "print a\n"
     ],
     "language": "python",
     "metadata": {},
     "outputs": []
    },
    {
     "cell_type": "code",
     "collapsed": false,
     "input": [
      "if True:\n",
      "    print 'abc'\n",
      "     print 'def'\n"
     ],
     "language": "python",
     "metadata": {},
     "outputs": []
    },
    {
     "cell_type": "code",
     "collapsed": false,
     "input": [
      "print 'hello'\n",
      "# print 'world'\n"
     ],
     "language": "python",
     "metadata": {},
     "outputs": []
    },
    {
     "cell_type": "code",
     "collapsed": false,
     "input": [
      "print 'hello'; print 'world'\n"
     ],
     "language": "python",
     "metadata": {},
     "outputs": []
    },
    {
     "cell_type": "code",
     "collapsed": false,
     "input": [
      "a = 1\n",
      "b = 2\n",
      "\n",
      "c = 1 + (a if a > b else b)\n",
      "\n",
      "print c\n"
     ],
     "language": "python",
     "metadata": {},
     "outputs": []
    },
    {
     "cell_type": "code",
     "collapsed": false,
     "input": [],
     "language": "python",
     "metadata": {},
     "outputs": []
    }
   ],
   "metadata": {}
  }
 ]
}