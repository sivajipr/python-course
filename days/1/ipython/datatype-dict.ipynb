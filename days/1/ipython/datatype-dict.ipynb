{
 "metadata": {
  "name": "datatype-dict"
 },
 "nbformat": 3,
 "nbformat_minor": 0,
 "worksheets": [
  {
   "cells": [
    {
     "cell_type": "code",
     "collapsed": false,
     "input": [
      "student = {'name': 'John', 'age':19, 'mark': 80}\n",
      "\n",
      "print student['name']\n",
      "print student['age']\n",
      "print student['mark']\n"
     ],
     "language": "python",
     "metadata": {},
     "outputs": []
    },
    {
     "cell_type": "code",
     "collapsed": false,
     "input": [
      "a = {}\n",
      "\n",
      "a['x'] = 1\n",
      "a['y'] = 2\n",
      "\n",
      "print a\n"
     ],
     "language": "python",
     "metadata": {},
     "outputs": []
    },
    {
     "cell_type": "code",
     "collapsed": false,
     "input": [
      "a = {}\n",
      "\n",
      "a['x'] = 1\n",
      "a['y'] = 2\n",
      "\n",
      "a[10] = 'hello'\n",
      "\n",
      "a[(1,2)] = [3,4]\n",
      "\n",
      "print a\n",
      "\n",
      "print a[(1,2)]\n"
     ],
     "language": "python",
     "metadata": {},
     "outputs": []
    },
    {
     "cell_type": "code",
     "collapsed": false,
     "input": [
      "a = {}\n",
      "\n",
      "a['x'] = 1\n",
      "a['y'] = 2\n",
      "\n",
      "del a['x']\n",
      "\n",
      "print a\n"
     ],
     "language": "python",
     "metadata": {},
     "outputs": []
    },
    {
     "cell_type": "code",
     "collapsed": false,
     "input": [
      "a = {}\n",
      "\n",
      "a['x'] = 1\n",
      "a['y'] = 2\n",
      "a['z'] = 3\n",
      "\n",
      "print a.keys()\n",
      "\n",
      "print a.values()\n",
      "\n",
      "print a.items()\n"
     ],
     "language": "python",
     "metadata": {},
     "outputs": []
    },
    {
     "cell_type": "code",
     "collapsed": false,
     "input": [
      "a = {'x' : 10, 'y' : 20}\n",
      "\n",
      "print a['z']\n"
     ],
     "language": "python",
     "metadata": {},
     "outputs": []
    },
    {
     "cell_type": "code",
     "collapsed": false,
     "input": [
      "a = {'x' : 10, 'y' : 20}\n",
      "\n",
      "print a.get('x')\n",
      "\n",
      "print a.get('z')\n",
      "\n",
      "print a.get('z', 'Not Present')\n"
     ],
     "language": "python",
     "metadata": {},
     "outputs": []
    },
    {
     "cell_type": "code",
     "collapsed": false,
     "input": [
      "a = {'x' : 10, 'y' : 20}\n",
      "\n",
      "\n",
      "print a.setdefault('x', 20)\n",
      "\n",
      "print a\n",
      "\n",
      "print a.setdefault('z', 30)\n",
      "\n",
      "print a\n"
     ],
     "language": "python",
     "metadata": {},
     "outputs": []
    },
    {
     "cell_type": "code",
     "collapsed": false,
     "input": [
      "a = {'x' : 10, 'y' : 20}\n",
      "\n",
      "print 'x' in a\n",
      "\n",
      "print a.has_key('x')\n",
      "\n",
      "print a.has_key('t')\n"
     ],
     "language": "python",
     "metadata": {},
     "outputs": []
    },
    {
     "cell_type": "code",
     "collapsed": false,
     "input": [
      "a = {x : x + 1 for x in range(10)}\n",
      "\n",
      "print a\n"
     ],
     "language": "python",
     "metadata": {},
     "outputs": []
    }
   ],
   "metadata": {}
  }
 ]
}