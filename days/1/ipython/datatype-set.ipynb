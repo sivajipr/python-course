{
 "metadata": {
  "name": "datatype-set"
 },
 "nbformat": 3,
 "nbformat_minor": 0,
 "worksheets": [
  {
   "cells": [
    {
     "cell_type": "code",
     "collapsed": false,
     "input": [
      "a = [1,2,3,4,3,5,4]\n",
      "\n",
      "b = set(a)\n",
      "\n",
      "print b\n"
     ],
     "language": "python",
     "metadata": {},
     "outputs": []
    },
    {
     "cell_type": "code",
     "collapsed": false,
     "input": [
      "a = set([1,2,3,4,3,5,4])\n",
      "\n",
      "b = set([10, 20, 3, 5])\n",
      "\n",
      "print a | b\n",
      "\n",
      "print a & b\n",
      "\n",
      "print a - b\n",
      "\n",
      "print a ^ b\n",
      "\n",
      "print 2 in a"
     ],
     "language": "python",
     "metadata": {},
     "outputs": []
    },
    {
     "cell_type": "code",
     "collapsed": false,
     "input": [
      "a = set(\"hello\")\n",
      "\n",
      "a.add('m')\n",
      "\n",
      "print a\n"
     ],
     "language": "python",
     "metadata": {},
     "outputs": []
    },
    {
     "cell_type": "code",
     "collapsed": false,
     "input": [
      "a = set(\"hello\")\n",
      "\n",
      "a.update(\"world\")\n",
      "\n",
      "print a\n",
      "\n",
      "a.remove('w')\n",
      "\n",
      "print a\n"
     ],
     "language": "python",
     "metadata": {},
     "outputs": []
    },
    {
     "cell_type": "code",
     "collapsed": false,
     "input": [
      "a = [1,10,1,2,3,2,5,6,3,3,1]\n",
      "\n",
      "b = [x for x in a if a.count(x) >= 2]\n",
      "\n",
      "print b\n"
     ],
     "language": "python",
     "metadata": {},
     "outputs": []
    },
    {
     "cell_type": "code",
     "collapsed": false,
     "input": [
      "a = [1,10,1,2,3,2,5,6,3,3,1]\n",
      "\n",
      "b = {x for x in a if a.count(x) >= 2}\n",
      "\n",
      "print b\n"
     ],
     "language": "python",
     "metadata": {},
     "outputs": []
    },
    {
     "cell_type": "code",
     "collapsed": false,
     "input": [
      "a = {}\n",
      "print type(a)\n"
     ],
     "language": "python",
     "metadata": {},
     "outputs": []
    },
    {
     "cell_type": "code",
     "collapsed": false,
     "input": [
      "a = {1, 2}\n",
      "print type(a)\n",
      "print a\n"
     ],
     "language": "python",
     "metadata": {},
     "outputs": []
    },
    {
     "cell_type": "code",
     "collapsed": false,
     "input": [
      "a = {1,2}\n",
      "\n",
      "b = {2, 3}\n",
      "\n",
      "print a & b\n"
     ],
     "language": "python",
     "metadata": {},
     "outputs": []
    }
   ],
   "metadata": {}
  }
 ]
}